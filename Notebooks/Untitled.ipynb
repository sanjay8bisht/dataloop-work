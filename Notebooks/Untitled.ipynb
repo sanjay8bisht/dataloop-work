{
 "cells": [
  {
   "cell_type": "code",
   "execution_count": 2,
   "id": "00371e38",
   "metadata": {},
   "outputs": [],
   "source": [
    "import dtlpy as dl"
   ]
  },
  {
   "cell_type": "code",
   "execution_count": 3,
   "id": "9c98a02c",
   "metadata": {},
   "outputs": [],
   "source": [
    "package = dl.packages.get(package_name='resnet')\n",
    "pretrained_model = package.models.get(model_name='pretrained-resnet50')"
   ]
  },
  {
   "cell_type": "code",
   "execution_count": 5,
   "id": "3fc2111b",
   "metadata": {},
   "outputs": [],
   "source": [
    "import numpy as np"
   ]
  },
  {
   "cell_type": "code",
   "execution_count": 6,
   "id": "0fdb9406",
   "metadata": {},
   "outputs": [
    {
     "name": "stdout",
     "output_type": "stream",
     "text": [
      "[0. 1. 2. 3. 4. 5. 6. 7. 8. 9.]\n"
     ]
    }
   ],
   "source": [
    "epoch = np.linspace(0, 9, 10)\n",
    "print(epoch)"
   ]
  },
  {
   "cell_type": "code",
   "execution_count": null,
   "id": "08174e64",
   "metadata": {},
   "outputs": [],
   "source": []
  }
 ],
 "metadata": {
  "kernelspec": {
   "display_name": "Python 3 (ipykernel)",
   "language": "python",
   "name": "python3"
  },
  "language_info": {
   "codemirror_mode": {
    "name": "ipython",
    "version": 3
   },
   "file_extension": ".py",
   "mimetype": "text/x-python",
   "name": "python",
   "nbconvert_exporter": "python",
   "pygments_lexer": "ipython3",
   "version": "3.10.4"
  }
 },
 "nbformat": 4,
 "nbformat_minor": 5
}
